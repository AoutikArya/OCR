{
 "cells": [
  {
   "cell_type": "code",
   "execution_count": 1,
   "id": "5e4f9716",
   "metadata": {},
   "outputs": [],
   "source": [
    "import cv2\n",
    "import pytesseract\n",
    "from pdf2image import convert_from_path"
   ]
  },
  {
   "cell_type": "code",
   "execution_count": 2,
   "id": "0f49a6b9",
   "metadata": {},
   "outputs": [],
   "source": [
    "path='wintervacation.pdf'"
   ]
  },
  {
   "cell_type": "code",
   "execution_count": 3,
   "id": "7d6639c1",
   "metadata": {},
   "outputs": [],
   "source": [
    "poppler_path=r'C:\\Users\\Aoutik Arya\\poppler-0.68.0_x86\\poppler-0.68.0\\bin'"
   ]
  },
  {
   "cell_type": "code",
   "execution_count": 4,
   "id": "b9759cc5",
   "metadata": {},
   "outputs": [],
   "source": [
    "from pdf2image import convert_from_path\n",
    " \n",
    "\n",
    "images = convert_from_path('wintervacation.pdf',500,poppler_path=r'C:\\Users\\Aoutik Arya\\poppler-0.68.0_x86\\poppler-0.68.0\\bin')\n",
    " \n",
    "for i in range(len(images)):\n",
    "   \n",
    "      # Save pages as images in the pdf\n",
    "    images[i].save('1' + '.png', 'PNG')"
   ]
  },
  {
   "cell_type": "code",
   "execution_count": 5,
   "id": "1cce7d0c",
   "metadata": {},
   "outputs": [],
   "source": [
    "pytesseract.pytesseract.tesseract_cmd = r'C:\\Program Files\\Tesseract-OCR\\tesseract.exe' "
   ]
  },
  {
   "cell_type": "code",
   "execution_count": 6,
   "id": "afc170b1",
   "metadata": {},
   "outputs": [],
   "source": [
    "converted_image = cv2.imread('1.png')"
   ]
  },
  {
   "cell_type": "code",
   "execution_count": 7,
   "id": "5719fbca",
   "metadata": {},
   "outputs": [
    {
     "name": "stdout",
     "output_type": "stream",
     "text": [
      "DR. B. C. ROY ENGINEERING COLLEGE, DURGAPUR\n",
      "\n",
      "No. BCR/PR/2021 December 21, 2021\n",
      "\n",
      "NOTICE\n",
      "\n",
      "This is for information to all concerned that Dr. B. C. Roy Engineering College, Durgapur,\n",
      "will remain closed during December 28, 2021 to January 02, 2022 due to Winter Recess.\n",
      "The Institute will open on Monday, 34 January, 2022.\n",
      "\n",
      "Faculty/Staff members of the 4 (four) departments where the visits of NBA Expert Team\n",
      "will take place during January 07-09, 2022 may preferably attend the Institute during the\n",
      "Said period of vacation and continue with their pending NBA related jobs. Faculty/Staff\n",
      "member of any other department or office are also welcome to attend the Institute for NBA\n",
      "related works. The faculty/staff members attending the Institute during the above period\n",
      "will be granted CCL as per the Rules of the Institute.\n",
      "\n",
      "All the hostels will remain closed during the said vacation. Students are advised to vacate\n",
      "the hostels by 24t December (evening) or 25th December (morning), 2021 and they will be\n",
      "allowed to come back to the hostels by 274 January, 2022 from the lunch hour. The\n",
      "canteens will be closed after the dinner of 24th December, 2021.\n",
      "\n",
      "In view of the visit of NBA Peer Team during January 07-09, 2022, students are advised to\n",
      "report to the campus on and from January 03, 2022.\n",
      "\n",
      "\\\n",
      "\n",
      "rely —\n",
      "Prof. (Dr.) K.M.Hossain\n",
      "Vice Principal\n",
      "Dr. B. C. Roy Engineering College, Durgapur\n",
      "\n",
      "Copy to: General Secretary...for kind information.\n",
      "Principal\n",
      "Dean (Students’ Welfare & Alumni)\n",
      "All HoDs/Incharges/ Librarian\n",
      "Registrar\n",
      "Head-Administration\n",
      "Campus Administrator... Please inform the canteen operators accordingly.\n",
      "Chief-Corporate Affairs\n",
      "Sr. Manager (Finance)\n",
      "Sr. Manager (Admn.)\n",
      "\n"
     ]
    }
   ],
   "source": [
    "print(pytesseract.image_to_string(converted_image))\n"
   ]
  },
  {
   "cell_type": "code",
   "execution_count": 8,
   "id": "379a99e2",
   "metadata": {},
   "outputs": [],
   "source": [
    "converted_image = cv2.cvtColor(converted_image, cv2.COLOR_BGR2RGB)\n"
   ]
  },
  {
   "cell_type": "code",
   "execution_count": 9,
   "id": "05352f9c",
   "metadata": {},
   "outputs": [],
   "source": [
    "boxes = pytesseract.image_to_data(converted_image)\n",
    "for a, b in enumerate(boxes.splitlines()):\n",
    "    if a != 0:\n",
    "        b = b.split()\n",
    "        if len(b) == 12:\n",
    "            x, y, w, h = int(b[6]), int(b[7]), int(b[8]), int(b[9])\n",
    "            cv2.rectangle(converted_image, (x, y), (x + w, y + h), (255, 50, 50), 2)\n"
   ]
  },
  {
   "cell_type": "code",
   "execution_count": 10,
   "id": "9c5c8954",
   "metadata": {},
   "outputs": [
    {
     "data": {
      "text/plain": [
       "-1"
      ]
     },
     "execution_count": 10,
     "metadata": {},
     "output_type": "execute_result"
    }
   ],
   "source": [
    "cv2.namedWindow(\"window\", cv2.WND_PROP_FULLSCREEN)\n",
    "cv2.setWindowProperty(\"window\",cv2.WND_PROP_FULLSCREEN,cv2.WINDOW_FULLSCREEN)\n",
    "final_image = cv2.resize(converted_image, (1600, 750))\n",
    "\n",
    "# SHOW OUT THE OUTPUT\n",
    "cv2.imshow(\"window\",final_image)\n",
    "\n",
    "cv2.waitKey(10)"
   ]
  },
  {
   "cell_type": "code",
   "execution_count": null,
   "id": "6aed7d69",
   "metadata": {},
   "outputs": [],
   "source": []
  }
 ],
 "metadata": {
  "kernelspec": {
   "display_name": "Python 3",
   "language": "python",
   "name": "python3"
  },
  "language_info": {
   "codemirror_mode": {
    "name": "ipython",
    "version": 3
   },
   "file_extension": ".py",
   "mimetype": "text/x-python",
   "name": "python",
   "nbconvert_exporter": "python",
   "pygments_lexer": "ipython3",
   "version": "3.8.8"
  }
 },
 "nbformat": 4,
 "nbformat_minor": 5
}
